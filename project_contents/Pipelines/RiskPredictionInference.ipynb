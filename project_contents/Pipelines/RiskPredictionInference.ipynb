{
 "cells": [
  {
   "cell_type": "code",
   "execution_count": 1,
   "id": "fb06bcf9",
   "metadata": {},
   "outputs": [],
   "source": [
    "import numpy as np\n",
    "import pandas as pd\n",
    "from matplotlib import pyplot as plt\n",
    "\n",
    "from sklearn.metrics import accuracy_score, classification_report\n",
    "\n",
    "from joblib import dump, load\n",
    "\n",
    "from reportlab.pdfgen import canvas"
   ]
  },
  {
   "cell_type": "markdown",
   "id": "286ad68c",
   "metadata": {},
   "source": [
    "## Load Model"
   ]
  },
  {
   "cell_type": "code",
   "execution_count": 2,
   "id": "660f8b1b",
   "metadata": {},
   "outputs": [],
   "source": [
    "# Load the model from the file\n",
    "loaded_model = load('RiskPredictionArtifacts/model.joblib')"
   ]
  },
  {
   "cell_type": "markdown",
   "id": "df7f5df8",
   "metadata": {},
   "source": [
    "## Load Test Patients Data"
   ]
  },
  {
   "cell_type": "code",
   "execution_count": 7,
   "id": "71911e55",
   "metadata": {},
   "outputs": [],
   "source": [
    "X_test_5 = pd.read_csv(\"RiskPredictionArtifacts/X_test_5patients.csv\")\n",
    "y_test_5 = pd.read_csv(\"RiskPredictionArtifacts/y_test_5patients.csv\")"
   ]
  },
  {
   "cell_type": "code",
   "execution_count": 8,
   "id": "d4030422",
   "metadata": {},
   "outputs": [],
   "source": [
    "X_test_5_final = X_test_5.drop(columns=['id'])"
   ]
  },
  {
   "cell_type": "markdown",
   "id": "9ef04500",
   "metadata": {},
   "source": [
    "## Make Predictions and Evaluate"
   ]
  },
  {
   "cell_type": "code",
   "execution_count": 9,
   "id": "20ebe367",
   "metadata": {},
   "outputs": [
    {
     "name": "stdout",
     "output_type": "stream",
     "text": [
      "Accuracy: 0.8\n",
      "              precision    recall  f1-score   support\n",
      "\n",
      "           0       0.75      1.00      0.86         3\n",
      "           1       1.00      0.50      0.67         2\n",
      "\n",
      "    accuracy                           0.80         5\n",
      "   macro avg       0.88      0.75      0.76         5\n",
      "weighted avg       0.85      0.80      0.78         5\n",
      "\n"
     ]
    }
   ],
   "source": [
    "# Make predictions on the test set\n",
    "y_pred = loaded_model.predict(X_test_5_final)\n",
    "\n",
    "# Evaluate the model\n",
    "accuracy = accuracy_score(y_test_5, y_pred)\n",
    "print(f\"Accuracy: {accuracy}\")\n",
    "\n",
    "# View detailed classification report\n",
    "print(classification_report(y_test_5, y_pred))"
   ]
  },
  {
   "cell_type": "markdown",
   "id": "53d65809",
   "metadata": {},
   "source": [
    "## Export as pdf"
   ]
  },
  {
   "cell_type": "code",
   "execution_count": 102,
   "id": "0ea49c82",
   "metadata": {},
   "outputs": [],
   "source": [
    "y_test_df = pd.DataFrame(y_test_5)\n",
    "y_pred_df = pd.DataFrame(y_pred,  columns=['pred'])"
   ]
  },
  {
   "cell_type": "code",
   "execution_count": 103,
   "id": "69fd5b57",
   "metadata": {},
   "outputs": [],
   "source": [
    "merged_df = pd.merge(pd.merge(X_test_5, y_test_df, left_index=True, right_index=True), y_pred_df, left_index=True, right_index=True)"
   ]
  },
  {
   "cell_type": "code",
   "execution_count": 104,
   "id": "e956a5da",
   "metadata": {},
   "outputs": [
    {
     "data": {
      "text/plain": [
       "(5, 188)"
      ]
     },
     "execution_count": 104,
     "metadata": {},
     "output_type": "execute_result"
    }
   ],
   "source": [
    "merged_df.shape"
   ]
  },
  {
   "cell_type": "code",
   "execution_count": 105,
   "id": "7bb3ac17",
   "metadata": {},
   "outputs": [
    {
     "data": {
      "text/html": [
       "<div>\n",
       "<style scoped>\n",
       "    .dataframe tbody tr th:only-of-type {\n",
       "        vertical-align: middle;\n",
       "    }\n",
       "\n",
       "    .dataframe tbody tr th {\n",
       "        vertical-align: top;\n",
       "    }\n",
       "\n",
       "    .dataframe thead th {\n",
       "        text-align: right;\n",
       "    }\n",
       "</style>\n",
       "<table border=\"1\" class=\"dataframe\">\n",
       "  <thead>\n",
       "    <tr style=\"text-align: right;\">\n",
       "      <th></th>\n",
       "      <th>id</th>\n",
       "      <th>state</th>\n",
       "      <th>race</th>\n",
       "      <th>ethnicity</th>\n",
       "      <th>Otitis media</th>\n",
       "      <th>Fever (finding)</th>\n",
       "      <th>Suspected COVID-19</th>\n",
       "      <th>COVID-19</th>\n",
       "      <th>Sprain of ankle</th>\n",
       "      <th>Cough (finding)</th>\n",
       "      <th>...</th>\n",
       "      <th>Unnamed: 178</th>\n",
       "      <th>Unnamed: 179</th>\n",
       "      <th>Unnamed: 180</th>\n",
       "      <th>Unnamed: 181</th>\n",
       "      <th>Unnamed: 182</th>\n",
       "      <th>Unnamed: 183</th>\n",
       "      <th>Unnamed: 184</th>\n",
       "      <th>Unnamed: 185</th>\n",
       "      <th>risk</th>\n",
       "      <th>pred</th>\n",
       "    </tr>\n",
       "  </thead>\n",
       "  <tbody>\n",
       "    <tr>\n",
       "      <th>0</th>\n",
       "      <td>432d95bf-19e9-4c20-96bd-f7a84dd92aa7</td>\n",
       "      <td>1</td>\n",
       "      <td>5</td>\n",
       "      <td>1</td>\n",
       "      <td>0.0</td>\n",
       "      <td>1.0</td>\n",
       "      <td>1.0</td>\n",
       "      <td>1.0</td>\n",
       "      <td>0.0</td>\n",
       "      <td>1.0</td>\n",
       "      <td>...</td>\n",
       "      <td>0.0</td>\n",
       "      <td>0.0</td>\n",
       "      <td>0.0</td>\n",
       "      <td>0.0</td>\n",
       "      <td>0.0</td>\n",
       "      <td>0.0</td>\n",
       "      <td>0</td>\n",
       "      <td>0</td>\n",
       "      <td>0</td>\n",
       "      <td>0</td>\n",
       "    </tr>\n",
       "    <tr>\n",
       "      <th>1</th>\n",
       "      <td>6fd20c3b-de36-4ba9-86ad-4a64e9d53781</td>\n",
       "      <td>1</td>\n",
       "      <td>5</td>\n",
       "      <td>1</td>\n",
       "      <td>0.0</td>\n",
       "      <td>1.0</td>\n",
       "      <td>1.0</td>\n",
       "      <td>1.0</td>\n",
       "      <td>0.0</td>\n",
       "      <td>0.0</td>\n",
       "      <td>...</td>\n",
       "      <td>0.0</td>\n",
       "      <td>0.0</td>\n",
       "      <td>0.0</td>\n",
       "      <td>0.0</td>\n",
       "      <td>0.0</td>\n",
       "      <td>0.0</td>\n",
       "      <td>0</td>\n",
       "      <td>0</td>\n",
       "      <td>0</td>\n",
       "      <td>0</td>\n",
       "    </tr>\n",
       "    <tr>\n",
       "      <th>2</th>\n",
       "      <td>3e8f1d67-152e-411b-b9b7-c0c232ea6626</td>\n",
       "      <td>1</td>\n",
       "      <td>5</td>\n",
       "      <td>0</td>\n",
       "      <td>0.0</td>\n",
       "      <td>0.0</td>\n",
       "      <td>0.0</td>\n",
       "      <td>0.0</td>\n",
       "      <td>0.0</td>\n",
       "      <td>0.0</td>\n",
       "      <td>...</td>\n",
       "      <td>0.0</td>\n",
       "      <td>0.0</td>\n",
       "      <td>0.0</td>\n",
       "      <td>0.0</td>\n",
       "      <td>0.0</td>\n",
       "      <td>0.0</td>\n",
       "      <td>0</td>\n",
       "      <td>4</td>\n",
       "      <td>0</td>\n",
       "      <td>0</td>\n",
       "    </tr>\n",
       "    <tr>\n",
       "      <th>3</th>\n",
       "      <td>5475def7-5a54-4f18-99b8-2d20a371a92c</td>\n",
       "      <td>1</td>\n",
       "      <td>5</td>\n",
       "      <td>1</td>\n",
       "      <td>0.0</td>\n",
       "      <td>0.0</td>\n",
       "      <td>1.0</td>\n",
       "      <td>1.0</td>\n",
       "      <td>0.0</td>\n",
       "      <td>1.0</td>\n",
       "      <td>...</td>\n",
       "      <td>0.0</td>\n",
       "      <td>0.0</td>\n",
       "      <td>0.0</td>\n",
       "      <td>0.0</td>\n",
       "      <td>0.0</td>\n",
       "      <td>0.0</td>\n",
       "      <td>1</td>\n",
       "      <td>4</td>\n",
       "      <td>1</td>\n",
       "      <td>1</td>\n",
       "    </tr>\n",
       "    <tr>\n",
       "      <th>4</th>\n",
       "      <td>5cc75ac6-5bb0-44fd-9f35-5e840766fd1b</td>\n",
       "      <td>1</td>\n",
       "      <td>5</td>\n",
       "      <td>1</td>\n",
       "      <td>0.0</td>\n",
       "      <td>1.0</td>\n",
       "      <td>1.0</td>\n",
       "      <td>1.0</td>\n",
       "      <td>0.0</td>\n",
       "      <td>1.0</td>\n",
       "      <td>...</td>\n",
       "      <td>0.0</td>\n",
       "      <td>0.0</td>\n",
       "      <td>0.0</td>\n",
       "      <td>0.0</td>\n",
       "      <td>0.0</td>\n",
       "      <td>0.0</td>\n",
       "      <td>0</td>\n",
       "      <td>4</td>\n",
       "      <td>1</td>\n",
       "      <td>0</td>\n",
       "    </tr>\n",
       "  </tbody>\n",
       "</table>\n",
       "<p>5 rows × 188 columns</p>\n",
       "</div>"
      ],
      "text/plain": [
       "                                     id  state  race  ethnicity  Otitis media  \\\n",
       "0  432d95bf-19e9-4c20-96bd-f7a84dd92aa7      1     5          1           0.0   \n",
       "1  6fd20c3b-de36-4ba9-86ad-4a64e9d53781      1     5          1           0.0   \n",
       "2  3e8f1d67-152e-411b-b9b7-c0c232ea6626      1     5          0           0.0   \n",
       "3  5475def7-5a54-4f18-99b8-2d20a371a92c      1     5          1           0.0   \n",
       "4  5cc75ac6-5bb0-44fd-9f35-5e840766fd1b      1     5          1           0.0   \n",
       "\n",
       "   Fever (finding)  Suspected COVID-19  COVID-19  Sprain of ankle  \\\n",
       "0              1.0                 1.0       1.0              0.0   \n",
       "1              1.0                 1.0       1.0              0.0   \n",
       "2              0.0                 0.0       0.0              0.0   \n",
       "3              0.0                 1.0       1.0              0.0   \n",
       "4              1.0                 1.0       1.0              0.0   \n",
       "\n",
       "   Cough (finding)  ...  Unnamed: 178  Unnamed: 179  Unnamed: 180  \\\n",
       "0              1.0  ...           0.0           0.0           0.0   \n",
       "1              0.0  ...           0.0           0.0           0.0   \n",
       "2              0.0  ...           0.0           0.0           0.0   \n",
       "3              1.0  ...           0.0           0.0           0.0   \n",
       "4              1.0  ...           0.0           0.0           0.0   \n",
       "\n",
       "   Unnamed: 181  Unnamed: 182  Unnamed: 183  Unnamed: 184  Unnamed: 185  risk  \\\n",
       "0           0.0           0.0           0.0             0             0     0   \n",
       "1           0.0           0.0           0.0             0             0     0   \n",
       "2           0.0           0.0           0.0             0             4     0   \n",
       "3           0.0           0.0           0.0             1             4     1   \n",
       "4           0.0           0.0           0.0             0             4     1   \n",
       "\n",
       "   pred  \n",
       "0     0  \n",
       "1     0  \n",
       "2     0  \n",
       "3     1  \n",
       "4     0  \n",
       "\n",
       "[5 rows x 188 columns]"
      ]
     },
     "execution_count": 105,
     "metadata": {},
     "output_type": "execute_result"
    }
   ],
   "source": [
    "merged_df.head()"
   ]
  },
  {
   "cell_type": "code",
   "execution_count": 106,
   "id": "59304f5f",
   "metadata": {},
   "outputs": [],
   "source": [
    "# Create a PDF file\n",
    "pdf_filename = \"output.pdf\"\n",
    "c = canvas.Canvas(pdf_filename)\n",
    "\n",
    "# Set initial y position\n",
    "y_position = 750\n",
    "\n",
    "# Write text to the PDF\n",
    "for index, row in merged_df.iterrows():\n",
    "    if (row['pred'] == 0):\n",
    "        text = \"Patient \" + row['id'] + \" is at low risk of mortality from Covid19\"\n",
    "    else:\n",
    "        text = \"Patient \" + row['id'] + \" is at high risk of mortality from Covid19\"\n",
    "    \n",
    "    c.drawString(100, y_position, text)\n",
    "    y_position -= 20\n",
    "\n",
    "# Save the PDF file\n",
    "c.save()\n"
   ]
  },
  {
   "cell_type": "code",
   "execution_count": null,
   "id": "3658e9a9",
   "metadata": {},
   "outputs": [],
   "source": []
  },
  {
   "cell_type": "code",
   "execution_count": null,
   "id": "19792a86",
   "metadata": {},
   "outputs": [],
   "source": []
  }
 ],
 "metadata": {
  "kernelspec": {
   "display_name": "Python 3 (ipykernel)",
   "language": "python",
   "name": "python3"
  },
  "language_info": {
   "codemirror_mode": {
    "name": "ipython",
    "version": 3
   },
   "file_extension": ".py",
   "mimetype": "text/x-python",
   "name": "python",
   "nbconvert_exporter": "python",
   "pygments_lexer": "ipython3",
   "version": "3.9.12"
  }
 },
 "nbformat": 4,
 "nbformat_minor": 5
}
